{
 "cells": [
  {
   "cell_type": "code",
   "execution_count": 3,
   "metadata": {},
   "outputs": [],
   "source": [
    "import numpy as np\n",
    "import random"
   ]
  },
  {
   "cell_type": "code",
   "execution_count": null,
   "metadata": {},
   "outputs": [],
   "source": []
  },
  {
   "cell_type": "code",
   "execution_count": null,
   "metadata": {},
   "outputs": [],
   "source": []
  },
  {
   "cell_type": "code",
   "execution_count": null,
   "metadata": {},
   "outputs": [],
   "source": []
  },
  {
   "cell_type": "code",
   "execution_count": 3,
   "metadata": {},
   "outputs": [],
   "source": [
    "gray3 = ('gray', 1)\n",
    "green3 = ('green', 2)\n",
    "white3 = ('white', 2)\n",
    "black3 = ('black', 2)\n"
   ]
  },
  {
   "cell_type": "code",
   "execution_count": 4,
   "metadata": {},
   "outputs": [],
   "source": [
    "h = [gray3, green3, green3, white3]"
   ]
  },
  {
   "cell_type": "code",
   "execution_count": 5,
   "metadata": {},
   "outputs": [],
   "source": [
    "hu = list(dict.fromkeys(h))"
   ]
  },
  {
   "cell_type": "code",
   "execution_count": 6,
   "metadata": {},
   "outputs": [
    {
     "name": "stdout",
     "output_type": "stream",
     "text": [
      "[('gray', 1), ('green', 2), ('white', 2)]\n"
     ]
    }
   ],
   "source": [
    "print(hu)"
   ]
  },
  {
   "cell_type": "code",
   "execution_count": 7,
   "metadata": {},
   "outputs": [
    {
     "name": "stdout",
     "output_type": "stream",
     "text": [
      "5\n"
     ]
    }
   ],
   "source": [
    "tot = 0\n",
    "for i in hu:\n",
    "    col, n = i\n",
    "    tot = tot + n\n",
    "    \n",
    "print(tot)"
   ]
  },
  {
   "cell_type": "code",
   "execution_count": 33,
   "metadata": {},
   "outputs": [],
   "source": [
    "#defining variables\n",
    "gray3 = ('gray', 1)\n",
    "green3 = ('green', 2)\n",
    "white3 = ('white', 2)\n",
    "black3 = ('black', 2)\n",
    "\n",
    "hand = []\n",
    "deck = [gray3, gray3, gray3, gray3, gray3,\n",
    "        green3, green3, green3,\n",
    "        black3, black3, black3,\n",
    "        white3, white3, white3]\n",
    "discard = []\n",
    "handU = []\n"
   ]
  },
  {
   "cell_type": "code",
   "execution_count": 34,
   "metadata": {},
   "outputs": [],
   "source": [
    "#need a way to randamize what gets pulled out of the deck, done\n",
    "#whatever gets drawn also needs to be removed from deck\n",
    "rand_deck = random.randint(0,len(deck))\n",
    "rand_h = random.randint(0,len(hand))\n",
    "rand_dis = random.randint(0,len(discard))\n",
    "\n"
   ]
  },
  {
   "cell_type": "code",
   "execution_count": 35,
   "metadata": {},
   "outputs": [
    {
     "name": "stdout",
     "output_type": "stream",
     "text": [
      "[('gray', 1)]\n",
      "[('gray', 1), ('gray', 1), ('gray', 1), ('gray', 1), ('green', 2), ('green', 2), ('green', 2), ('black', 2), ('black', 2), ('black', 2), ('white', 2), ('white', 2), ('white', 2)]\n",
      "[('gray', 1), ('gray', 1)]\n",
      "[('gray', 1), ('gray', 1), ('gray', 1), ('green', 2), ('green', 2), ('green', 2), ('black', 2), ('black', 2), ('black', 2), ('white', 2), ('white', 2), ('white', 2)]\n",
      "[('gray', 1), ('gray', 1), ('black', 2)]\n",
      "[('gray', 1), ('gray', 1), ('gray', 1), ('green', 2), ('green', 2), ('green', 2), ('black', 2), ('black', 2), ('white', 2), ('white', 2), ('white', 2)]\n",
      "[('gray', 1), ('gray', 1), ('black', 2), ('black', 2)]\n",
      "[('gray', 1), ('gray', 1), ('gray', 1), ('green', 2), ('green', 2), ('green', 2), ('black', 2), ('white', 2), ('white', 2), ('white', 2)]\n"
     ]
    }
   ],
   "source": [
    "#ideally support a number of draws and will need to know what to do when \n",
    "for y in range(4):\n",
    "    rand_deck = random.randint(0,len(deck))\n",
    "    hand.append(deck[rand_deck])\n",
    "    del deck[rand_deck]\n",
    "    print(hand)\n",
    "    print(deck)"
   ]
  },
  {
   "cell_type": "code",
   "execution_count": null,
   "metadata": {},
   "outputs": [],
   "source": []
  },
  {
   "cell_type": "code",
   "execution_count": null,
   "metadata": {},
   "outputs": [],
   "source": []
  }
 ],
 "metadata": {
  "kernelspec": {
   "display_name": "Python 3",
   "language": "python",
   "name": "python3"
  },
  "language_info": {
   "codemirror_mode": {
    "name": "ipython",
    "version": 3
   },
   "file_extension": ".py",
   "mimetype": "text/x-python",
   "name": "python",
   "nbconvert_exporter": "python",
   "pygments_lexer": "ipython3",
   "version": "3.6.5"
  }
 },
 "nbformat": 4,
 "nbformat_minor": 2
}
